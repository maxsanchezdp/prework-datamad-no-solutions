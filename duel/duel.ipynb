{
 "cells": [
  {
   "cell_type": "markdown",
   "metadata": {},
   "source": [
    "# Duel of sorcerers\n",
    "You are witnessing an epic battle between two powerful sorcerers: Gandalf and Saruman. Each sorcerer has 10 spells of variable power in their mind and they are going to throw them one after the other. The winner of the duel will be the one who wins more of those clashes between spells. Spells are represented as a list of 10 integers whose value equals the power of the spell.\n",
    "```\n",
    "gandalf = [10, 11, 13, 30, 22, 11, 10, 33, 22, 22]\n",
    "saruman = [23, 66, 12, 43, 12, 10, 44, 23, 12, 17]\n",
    "```\n",
    "For example:\n",
    "1. The first clash is won by Saruman: 10 against 23, wins 23\n",
    "2. The second clash wins Saruman: 11 against 66, wins 66\n",
    "3. etc.\n",
    "\n",
    "\n",
    "You will create two variables, one for each sorcerer, where the sum of clashes won will be stored. Depending on which variable is greater at the end of the duel, you will show one of the following three results on the screen:\n",
    "* Gandalf wins\n",
    "* Saruman wins\n",
    "* Tie\n",
    "\n",
    "<img src=\"images/content_lightning_bolt_big.jpg\" width=\"400\">"
   ]
  },
  {
   "cell_type": "code",
   "execution_count": 14,
   "metadata": {},
   "outputs": [
    {
     "name": "stdout",
     "output_type": "stream",
     "text": [
      "Gandalf wins!\n"
     ]
    }
   ],
   "source": [
    "## Solution\n",
    "\n",
    "# Assign spell power lists to variables\n",
    "\n",
    "gandalf = [10, 11, 13, 30, 22, 11, 10, 33, 22, 22]\n",
    "saruman = [23, 66, 12, 43, 12, 10, 44, 23, 12, 17]\n",
    "\n",
    "# Assign 0 to each variable that stores the victories\n",
    "gandalf_wins = 0\n",
    "saruman_wins = 0\n",
    "\n",
    "# Execution of spell clashes\n",
    "for i in range(10):\n",
    "    if gandalf[i] > saruman[i]:\n",
    "        gandalf_wins+=1\n",
    "    elif saruman[i] > gandalf[i]:\n",
    "        saruman_wins+=1\n",
    "\n",
    "    \n",
    "# We check who has won, do not forget the possibility of a draw.\n",
    "# Print the result based on the winner.\n",
    "if gandalf_wins > saruman_wins:\n",
    "    print (\"Gandalf wins!\")\n",
    "elif saruman_wins > gandalf_wins:\n",
    "    print (\"Saruman wins!\")\n",
    "else:\n",
    "    print (\"Tie!\")\n"
   ]
  },
  {
   "cell_type": "markdown",
   "metadata": {},
   "source": [
    "## Goals\n",
    "\n",
    "1. Treatment of lists\n",
    "2. Use of **for loop**\n",
    "3. Use of conditional **if-elif-else**\n",
    "4. Use of the functions **range(), len()**\n",
    "5. Print"
   ]
  },
  {
   "cell_type": "markdown",
   "metadata": {},
   "source": [
    "## Bonus\n",
    "\n",
    "1. Spells now have a name and there is a dictionary that relates that name to a power.\n",
    "2. A sorcerer wins if he succeeds in winning 3 spell clashes in a row.\n",
    "3. Average of each of the spell lists.\n",
    "4. Standard deviation of each of the spell lists.\n",
    "\n",
    "```\n",
    "POWER = {\n",
    "    'Fireball': 50, \n",
    "    'Lightning bolt': 40, \n",
    "    'Magic arrow': 10, \n",
    "    'Black Tentacles': 25, \n",
    "    'Contagion': 45\n",
    "}\n",
    "\n",
    "gandalf = ['Fireball', 'Lightning bolt', 'Lightning bolt', 'Magic arrow', 'Fireball', \n",
    "           'Magic arrow', 'Lightning bolt', 'Fireball', 'Fireball', 'Fireball']\n",
    "saruman = ['Contagion', 'Contagion', 'Black Tentacles', 'Fireball', 'Black Tentacles', \n",
    "           'Lightning bolt', 'Magic arrow', 'Contagion', 'Magic arrow', 'Magic arrow']\n",
    "```\n",
    "\n",
    "Good luck!"
   ]
  },
  {
   "cell_type": "code",
   "execution_count": 44,
   "metadata": {},
   "outputs": [
    {
     "name": "stdout",
     "output_type": "stream",
     "text": [
      "No one won 3 times in a row, so there's no winner!\n",
      "The average power of Gandalf's spells is:  35.0\n",
      "The average power of Saruman's spells is:  30.5\n",
      "The standard deviation of Gandalf's spells is:  17.795130420052185\n",
      "The standard deviation of Saruman's spells is:  16.40629960309962\n",
      "[50, 40, 40, 10, 50, 10, 40, 50, 10, 50]\n",
      "[45, 45, 25, 50, 25, 40, 10, 45, 10, 10]\n"
     ]
    }
   ],
   "source": [
    "# 1. Spells now have a name and there is a dictionary that relates that name to a power.\n",
    "# variables\n",
    "\n",
    "POWER = {\n",
    "    'Fireball': 50, \n",
    "    'Lightning bolt': 40, \n",
    "    'Magic arrow': 10, \n",
    "    'Black Tentacles': 25, \n",
    "    'Contagion': 45\n",
    "}\n",
    "\n",
    "gandalf = ['Fireball', 'Lightning bolt', 'Lightning bolt', 'Magic arrow', 'Fireball', \n",
    "           'Magic arrow', 'Lightning bolt', 'Fireball', 'Magic arrow', 'Fireball']\n",
    "saruman = ['Contagion', 'Contagion', 'Black Tentacles', 'Fireball', 'Black Tentacles', \n",
    "           'Lightning bolt', 'Magic arrow', 'Contagion', 'Magic arrow', 'Magic arrow']\n",
    "\n",
    "# Assign spell power lists to variables\n",
    "gandalf_power=[]\n",
    "saruman_power=[]\n",
    "\n",
    "# 2. A sorcerer wins if he succeeds in winning 3 spell clashes in a row.\n",
    "winners=[]\n",
    "victory=0\n",
    "\n",
    "# Execution of spell clashes\n",
    "for i in range (10):\n",
    "    gandalf_power.append(POWER[gandalf[i]])\n",
    "    saruman_power.append(POWER[saruman[i]])\n",
    "    \n",
    "    if gandalf_power[i] > saruman_power[i]:\n",
    "        winners.append('Gandalf')\n",
    "    elif gandalf_power[i] < saruman_power[i]:\n",
    "        winners.append('Saruman')\n",
    "    else:\n",
    "        winners.append('tie')\n",
    "    #print(\"Gandalf: \", gandalf[i], gandalf_power[i])\n",
    "    #print(\"Saruman: \", saruman[i], saruman_power[i])\n",
    "    #print(winners)\n",
    "            \n",
    "\n",
    "# check for 3 wins in a row\n",
    "    if (winners[len(winners)-1] != \"tie\") & (len(winners) >= 3):\n",
    "        if (winners[len(winners)-1] == winners[len(winners)-2]) & (winners[len(winners)-1] == winners[len(winners)-3]):\n",
    "            victory=1\n",
    "            break\n",
    "\n",
    "# check the winner\n",
    "if victory == 1:\n",
    "    print (\"The winner is\", winners[len(winners)-1],\"!\")\n",
    "else:\n",
    "    print (\"No one won 3 times in a row, so there's no winner!\")\n",
    "\n",
    "# 3. Average of each of the spell lists.\n",
    "avg_gandalf_power=sum(gandalf_power)/len(gandalf_power)\n",
    "avg_saruman_power=sum(saruman_power)/len(saruman_power)\n",
    "\n",
    "print(\"The average power of Gandalf's spells is: \", avg_gandalf_power)\n",
    "print(\"The average power of Saruman's spells is: \", avg_saruman_power)\n",
    "\n",
    "\n",
    "# 4. Standard deviation of each of the spell lists.\n",
    "var_gandalf_power=0\n",
    "var_saruman_power=0\n",
    "\n",
    "for i in range(len(gandalf_power)):\n",
    "    var_gandalf_power+=((gandalf_power[i]-avg_gandalf_power)**2)/(len(gandalf_power)-1)\n",
    "    var_saruman_power+=((saruman_power[i]-avg_saruman_power)**2)/(len(saruman_power)-1)\n",
    "\n",
    "stdev_gandalf_power=var_gandalf_power**(1/2)\n",
    "stdev_saruman_power=var_saruman_power**(1/2)\n",
    "\n",
    "print(\"The standard deviation of Gandalf's spells is: \", stdev_gandalf_power)\n",
    "print(\"The standard deviation of Saruman's spells is: \", stdev_saruman_power)\n",
    "\n",
    "#print(gandalf_power)\n",
    "#print(saruman_power)\n",
    "\n",
    "\n",
    "\n"
   ]
  },
  {
   "cell_type": "code",
   "execution_count": null,
   "metadata": {},
   "outputs": [],
   "source": []
  },
  {
   "cell_type": "code",
   "execution_count": null,
   "metadata": {},
   "outputs": [],
   "source": []
  }
 ],
 "metadata": {
  "kernelspec": {
   "display_name": "Python 3",
   "language": "python",
   "name": "python3"
  },
  "language_info": {
   "codemirror_mode": {
    "name": "ipython",
    "version": 3
   },
   "file_extension": ".py",
   "mimetype": "text/x-python",
   "name": "python",
   "nbconvert_exporter": "python",
   "pygments_lexer": "ipython3",
   "version": "3.7.3"
  }
 },
 "nbformat": 4,
 "nbformat_minor": 2
}
